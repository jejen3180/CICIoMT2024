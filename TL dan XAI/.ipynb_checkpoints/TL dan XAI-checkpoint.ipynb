{
 "cells": [
  {
   "cell_type": "code",
   "execution_count": 16,
   "id": "01fed447-92d3-4b7a-a8df-2c9f388b7349",
   "metadata": {},
   "outputs": [],
   "source": [
    "# Pipeline: Transfer Learning + Concept Drift Detection + Explainable AI (SHAP)\n",
    "\n",
    "import pandas as pd\n",
    "import numpy as np\n",
    "import os, glob\n",
    "\n",
    "from pathlib import Path\n",
    "\n",
    "from sklearn.preprocessing import LabelEncoder, StandardScaler\n",
    "from sklearn.model_selection import train_test_split\n",
    "from sklearn.metrics import classification_report, confusion_matrix\n",
    "\n",
    "from sklearn.ensemble import RandomForestClassifier, AdaBoostClassifier, ExtraTreesClassifier, VotingClassifier\n",
    "from sklearn.tree import DecisionTreeClassifier\n",
    "\n",
    "from xgboost import XGBClassifier\n",
    "from lightgbm import LGBMClassifier\n",
    "from catboost import CatBoostClassifier\n",
    "\n",
    "import matplotlib.pyplot as plt\n",
    "import seaborn as sns"
   ]
  },
  {
   "cell_type": "code",
   "execution_count": 9,
   "id": "d29f5156-4e96-445e-80eb-e25254d5df7f",
   "metadata": {},
   "outputs": [],
   "source": [
    "# Step 1: Load and preprocess dataset from a structured path\n",
    "def load_dataset_from_structure(root_path):\n",
    "    data = []\n",
    "    for file in root_path.glob('*/*/*.csv'):\n",
    "        try:\n",
    "            df = pd.read_csv(file)\n",
    "            category = file.parents[1].name\n",
    "            attack = file.parent.name\n",
    "            label_class = 'Benign' if category.upper() == 'BENIGN' else 'Attack'\n",
    "            df['category'] = category\n",
    "            df['attack'] = attack\n",
    "            df['class'] = label_class\n",
    "            data.append(df)\n",
    "        except Exception as e:\n",
    "            print(f\"[ERROR] Failed to read file {file}: {e}\")\n",
    "    return pd.concat(data, ignore_index=True)\n",
    "\n",
    "# Load datasets\n",
    "train_root = Path('../../../Data/CICIoMT2024/train')\n",
    "train_df = load_dataset_from_structure(train_root)\n",
    "\n",
    "test_root = Path('../../../Data/CICIoMT2024/test')\n",
    "test_df = load_dataset_from_structure(test_root)"
   ]
  },
  {
   "cell_type": "code",
   "execution_count": 10,
   "id": "b00143c6-b130-4bcb-8293-1ee9ca715c81",
   "metadata": {},
   "outputs": [
    {
     "name": "stdout",
     "output_type": "stream",
     "text": [
      "Train set: (7160831, 48)\n",
      "category  attack              class \n",
      "DDoS      DDoS UDP            Attack    1635956\n",
      "          DDoS ICMP           Attack    1537476\n",
      "          DDoS TCP            Attack     804465\n",
      "          DDoS SYN            Attack     801962\n",
      "DoS       DoS UDP             Attack     566950\n",
      "          DoS SYN             Attack     441903\n",
      "          DoS ICMP            Attack     416292\n",
      "          DoS TCP             Attack     380384\n",
      "BENIGN    BENIGN              Benign     192732\n",
      "MQTT      DDoS Connect Flood  Attack     173036\n",
      "RECON     Port Scan           Attack      83981\n",
      "MQTT      DoS Publish Flood   Attack      44376\n",
      "          DDoS Publish Flood  Attack      27623\n",
      "RECON     OS Scan             Attack      16832\n",
      "SPOOFING  SPOOFING            Attack      16047\n",
      "MQTT      DoS Connect Flood   Attack      12773\n",
      "          Malformed Data      Attack       5130\n",
      "RECON     Recon VulScan       Attack       2173\n",
      "          Ping Sweep          Attack        740\n",
      "Name: count, dtype: int64\n",
      "\n",
      "Test set: (1614182, 48)\n",
      "category  attack              class \n",
      "DDoS      DDoS UDP            Attack    362070\n",
      "          DDoS ICMP           Attack    349699\n",
      "          DDoS TCP            Attack    182598\n",
      "          DDoS SYN            Attack    172397\n",
      "DoS       DoS UDP             Attack    137553\n",
      "          DoS SYN             Attack     98595\n",
      "          DoS ICMP            Attack     98432\n",
      "          DoS TCP             Attack     82096\n",
      "MQTT      DDoS Connect Flood  Attack     41916\n",
      "BENIGN    BENIGN              Benign     37607\n",
      "RECON     Port Scan           Attack     22622\n",
      "MQTT      DoS Publish Flood   Attack      8505\n",
      "          DDoS Publish Flood  Attack      8416\n",
      "RECON     OS Scan             Attack      3834\n",
      "MQTT      DoS Connect Flood   Attack      3131\n",
      "          Malformed Data      Attack      1747\n",
      "SPOOFING  SPOOFING            Attack      1744\n",
      "RECON     Recon VulScan       Attack      1034\n",
      "          Ping Sweep          Attack       186\n",
      "Name: count, dtype: int64\n"
     ]
    }
   ],
   "source": [
    "# Summary\n",
    "print(\"Train set:\", train_df.shape)\n",
    "print(train_df[['category', 'attack', 'class']].value_counts())\n",
    "print(\"\\nTest set:\", test_df.shape)\n",
    "print(test_df[['category', 'attack', 'class']].value_counts())"
   ]
  },
  {
   "cell_type": "code",
   "execution_count": 11,
   "id": "959962ba-5d0d-4d39-a7dd-918054a42a14",
   "metadata": {},
   "outputs": [],
   "source": [
    "# Combine train and test\n",
    "df = pd.concat([train_df, test_df], ignore_index=True)\n",
    "\n",
    "# Label encoding\n",
    "y_encoded = LabelEncoder().fit_transform(df['attack'])\n",
    "\n",
    "# Feature selection + scaling\n",
    "X = df.drop(['class', 'category', 'attack'], axis=1, errors='ignore').select_dtypes(include=[np.number])\n",
    "scaler = StandardScaler()\n",
    "X_scaled = scaler.fit_transform(X)\n"
   ]
  },
  {
   "cell_type": "code",
   "execution_count": null,
   "id": "1ff7f67f-b643-4097-a5b1-21ed8fb8cba2",
   "metadata": {},
   "outputs": [],
   "source": [
    "# Split data\n",
    "X_train, X_test, y_train, y_test = train_test_split(X_scaled, y_encoded, test_size=0.2, random_state=42)\n",
    "\n",
    "# Step 2: Concept Drift Detection (Manual Sliding Window Approach)\n",
    "window_size = 100\n",
    "threshold = 0.85  # if accuracy in window < threshold, consider drift\n",
    "for i in range(window_size, len(X_test)):\n",
    "    window_X = X_test[i-window_size:i]\n",
    "    window_y = y_test[i-window_size:i]\n",
    "    clf = XGBClassifier().fit(X_train, y_train)\n",
    "    preds = clf.predict(window_X)\n",
    "    acc = np.mean(preds == window_y)\n",
    "    if acc < threshold:\n",
    "        print(f\"🔺 Possible Concept Drift Detected at index {i}, Accuracy in window: {acc:.2f}\")\n"
   ]
  },
  {
   "cell_type": "code",
   "execution_count": null,
   "id": "d82c87ba-8129-41df-aab4-4e7cbb7de6e5",
   "metadata": {},
   "outputs": [],
   "source": []
  }
 ],
 "metadata": {
  "kernelspec": {
   "display_name": "Python [conda env:base] *",
   "language": "python",
   "name": "conda-base-py"
  },
  "language_info": {
   "codemirror_mode": {
    "name": "ipython",
    "version": 3
   },
   "file_extension": ".py",
   "mimetype": "text/x-python",
   "name": "python",
   "nbconvert_exporter": "python",
   "pygments_lexer": "ipython3",
   "version": "3.12.7"
  }
 },
 "nbformat": 4,
 "nbformat_minor": 5
}
