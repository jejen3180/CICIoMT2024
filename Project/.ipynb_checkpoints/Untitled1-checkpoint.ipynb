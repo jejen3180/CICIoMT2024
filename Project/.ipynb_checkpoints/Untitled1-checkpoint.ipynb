{
 "cells": [
  {
   "cell_type": "code",
   "execution_count": null,
   "id": "a916fd7c-e18a-4fe9-a963-321391824f79",
   "metadata": {},
   "outputs": [],
   "source": [
    "# Contrastive Learning + Zero-Day Detection for IoMT IDS (Memperbaiki SPOOFING)\n",
    "import pandas as pd\n",
    "import numpy as np\n",
    "import matplotlib.pyplot as plt\n",
    "from sklearn.preprocessing import StandardScaler\n",
    "from sklearn.metrics import classification_report, confusion_matrix\n",
    "from sklearn.model_selection import train_test_split\n",
    "from tensorflow.keras.models import Model\n",
    "from tensorflow.keras.layers import Dense, Dropout, Input\n",
    "from pathlib import Path\n",
    "from collections import Counter\n",
    "import seaborn as sns"
   ]
  },
  {
   "cell_type": "code",
   "execution_count": null,
   "id": "f4a443c5-df37-4418-823a-562fcf1b0aae",
   "metadata": {},
   "outputs": [],
   "source": [
    "# === 1. Load Combined Dataset ===\n",
    "# Asumsikan df sudah ada dari tahap sebelumnya\n",
    "# Cek jika kolom 'class', 'attack' belum tersedia\n",
    "if 'class' not in df.columns or 'attack' not in df.columns:\n",
    "    raise ValueError(\"Dataset harus memiliki kolom 'class' dan 'attack' sebelum menjalankan skrip ini.\")\n",
    "\n",
    "# Normalisasi teks\n",
    "df['attack'] = df['attack'].astype(str).str.strip().str.upper()\n",
    "df['class'] = df['class'].astype(str).str.strip().str.upper()\n",
    "\n",
    "# === Pisahkan kelas BENIGN dan SPOOFING ===\n",
    "benign_df = df[df['class'] == 'BENIGN'].copy()\n",
    "spoofing_df = df[df['attack'] == 'SPOOFING'].copy()\n",
    "\n",
    "# Gabungkan sebagian serangan lain untuk kontras\n",
    "known_attacks_df = df[(df['class'] == 'ATTACK') & (df['attack'] != 'SPOOFING')].sample(n=30000, random_state=42)\n",
    "\n",
    "# === Buat label contrastive ===\n",
    "benign_df['label'] = 0\n",
    "known_attacks_df['label'] = 1\n",
    "\n",
    "contrast_df = pd.concat([benign_df, known_attacks_df], ignore_index=True)"
   ]
  },
  {
   "cell_type": "code",
   "execution_count": null,
   "id": "65da5664-6052-4fa1-9776-44990acc4142",
   "metadata": {},
   "outputs": [],
   "source": [
    "# === 1. Load Combined Dataset ===\n",
    "df['attack'] = df['attack'].astype(str).str.strip().str.upper()\n",
    "\n",
    "# === Pisahkan kelas BENIGN dan SPOOFING ===\n",
    "benign_df = df[df['class'].str.upper() == 'BENIGN'].copy()\n",
    "spoofing_df = df[df['attack'] == 'SPOOFING'].copy()\n",
    "\n",
    "# Gabungkan sebagian serangan lain untuk kontras\n",
    "known_attacks_df = df[(df['class'].str.upper() == 'ATTACK') & (df['attack'] != 'SPOOFING')].sample(n=30000, random_state=42)\n",
    "\n",
    "# === Buat label contrastive ===\n",
    "benign_df['label'] = 0\n",
    "known_attacks_df['label'] = 1\n",
    "\n",
    "contrast_df = pd.concat([benign_df, known_attacks_df], ignore_index=True)"
   ]
  },
  {
   "cell_type": "code",
   "execution_count": null,
   "id": "769c9738-cd10-4987-a918-8488a6178706",
   "metadata": {},
   "outputs": [],
   "source": [
    "# === Preprocessing ===\n",
    "X = contrast_df.select_dtypes(include='number')\n",
    "feature_cols = X.columns  # Simpan fitur yang digunakan\n",
    "\n",
    "y = contrast_df['label']\n",
    "\n",
    "scaler = StandardScaler()\n",
    "X_scaled = scaler.fit_transform(X)\n",
    "\n",
    "X_train, X_val, y_train, y_val = train_test_split(X_scaled, y, test_size=0.2, random_state=42)\n"
   ]
  },
  {
   "cell_type": "code",
   "execution_count": null,
   "id": "994858e7-417d-499d-95df-ce7b91f7dfbb",
   "metadata": {},
   "outputs": [],
   "source": [
    "# === Latih Encoder untuk Embedding ===\n",
    "inputs = Input(shape=(X_train.shape[1],))\n",
    "x = Dense(128, activation='relu')(inputs)\n",
    "x = Dropout(0.3)(x)\n",
    "x = Dense(64, activation='relu')(x)\n",
    "x = Dropout(0.3)(x)\n",
    "embedding = Dense(32, activation='relu', name='embedding')(x)\n",
    "out = Dense(1, activation='sigmoid')(embedding)\n",
    "\n",
    "encoder_model = Model(inputs=inputs, outputs=out)\n",
    "encoder_model.compile(optimizer='adam', loss='binary_crossentropy', metrics=['accuracy'])\n",
    "encoder_model.fit(X_train, y_train, validation_data=(X_val, y_val), epochs=10, batch_size=64, verbose=1)"
   ]
  },
  {
   "cell_type": "code",
   "execution_count": null,
   "id": "b6e26674-a861-4bdb-9dcf-0c15e59e6161",
   "metadata": {},
   "outputs": [],
   "source": [
    "# === Ambil embedding dari layer tengah ===\n",
    "embedding_model = Model(inputs=encoder_model.input, outputs=encoder_model.get_layer('embedding').output)\n",
    "\n",
    "# === Embedding untuk benign dan spoofing ===\n",
    "X_spoof = spoofing_df[feature_cols].copy()\n",
    "X_spoof_scaled = scaler.transform(X_spoof)\n",
    "embedding_spoof = embedding_model.predict(X_spoof_scaled)\n",
    "\n",
    "X_benign = benign_df[feature_cols].copy()\n",
    "X_benign_scaled = scaler.transform(X_benign)\n",
    "embedding_benign = embedding_model.predict(X_benign_scaled)"
   ]
  },
  {
   "cell_type": "code",
   "execution_count": null,
   "id": "198a657f-334e-489e-af63-e7082f0655e6",
   "metadata": {},
   "outputs": [],
   "source": []
  }
 ],
 "metadata": {
  "kernelspec": {
   "display_name": "Python [conda env:base] *",
   "language": "python",
   "name": "conda-base-py"
  },
  "language_info": {
   "codemirror_mode": {
    "name": "ipython",
    "version": 3
   },
   "file_extension": ".py",
   "mimetype": "text/x-python",
   "name": "python",
   "nbconvert_exporter": "python",
   "pygments_lexer": "ipython3",
   "version": "3.12.7"
  }
 },
 "nbformat": 4,
 "nbformat_minor": 5
}
