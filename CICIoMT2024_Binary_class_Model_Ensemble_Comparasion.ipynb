{
 "cells": [
  {
   "cell_type": "code",
   "execution_count": 9,
   "id": "61416445-5312-427b-aea1-870af7e770e5",
   "metadata": {},
   "outputs": [
    {
     "name": "stdout",
     "output_type": "stream",
     "text": [
      "Train set: (7160831, 48)\n",
      "category  attack     class \n",
      "DDoS      DDoS UDP   Attack    1635956\n",
      "          DDoS ICMP  Attack    1537476\n",
      "          DDoS TCP   Attack     804465\n",
      "          DDoS SYN   Attack     801962\n",
      "DoS       DoS UDP    Attack     566950\n",
      "Name: count, dtype: int64\n",
      "\n",
      "Test set: (1614182, 48)\n",
      "category  attack     class \n",
      "DDoS      DDoS UDP   Attack    362070\n",
      "          DDoS ICMP  Attack    349699\n",
      "          DDoS TCP   Attack    182598\n",
      "          DDoS SYN   Attack    172397\n",
      "DoS       DoS UDP    Attack    137553\n",
      "Name: count, dtype: int64\n"
     ]
    }
   ],
   "source": [
    "import pandas as pd\n",
    "from pathlib import Path\n",
    "\n",
    "def load_dataset_from_structure(root_path):\n",
    "    data = []\n",
    "    for file in root_path.glob('*/*/*.csv'):\n",
    "        try:\n",
    "            df = pd.read_csv(file)\n",
    "\n",
    "            category = file.parents[1].name  # DDoS, DoS, etc.\n",
    "            attack = file.parent.name        # DDoS ICMP, DoS TCP, etc.\n",
    "            label_class = 'Benign' if category.upper() == 'BENIGN' else 'Attack'\n",
    "\n",
    "            df['category'] = category\n",
    "            df['attack'] = attack\n",
    "            df['class'] = label_class\n",
    "\n",
    "            data.append(df)\n",
    "        except Exception as e:\n",
    "            print(f\"[ERROR] Failed to read file {file}: {e}\")\n",
    "    return pd.concat(data, ignore_index=True)\n",
    "\n",
    "# Load train\n",
    "train_root = Path('../../Data/CICIoMT2024/train')\n",
    "train_df = load_dataset_from_structure(train_root)\n",
    "\n",
    "# Load test\n",
    "test_root = Path('../../Data/CICIoMT2024/test')\n",
    "test_df = load_dataset_from_structure(test_root)\n",
    "\n",
    "# Cek ringkasan\n",
    "print(\"Train set:\", train_df.shape)\n",
    "print(train_df[['category', 'attack', 'class']].value_counts())\n",
    "print(\"\\nTest set:\", test_df.shape)\n",
    "print(test_df[['category', 'attack', 'class']].value_counts())\n"
   ]
  },
  {
   "cell_type": "code",
   "execution_count": 11,
   "id": "cbb5300b-b062-403b-a95f-d0366fcd43bd",
   "metadata": {},
   "outputs": [
    {
     "name": "stdout",
     "output_type": "stream",
     "text": [
      "Train set: (7160831, 48)\n",
      "category  attack              class \n",
      "DDoS      DDoS UDP            Attack    1635956\n",
      "          DDoS ICMP           Attack    1537476\n",
      "          DDoS TCP            Attack     804465\n",
      "          DDoS SYN            Attack     801962\n",
      "DoS       DoS UDP             Attack     566950\n",
      "          DoS SYN             Attack     441903\n",
      "          DoS ICMP            Attack     416292\n",
      "          DoS TCP             Attack     380384\n",
      "BENIGN    BENIGN              Benign     192732\n",
      "MQTT      DDoS Connect Flood  Attack     173036\n",
      "RECON     Port Scan           Attack      83981\n",
      "MQTT      DoS Publish Flood   Attack      44376\n",
      "          DDoS Publish Flood  Attack      27623\n",
      "RECON     OS Scan             Attack      16832\n",
      "SPOOFING  SPOOFING            Attack      16047\n",
      "MQTT      DoS Connect Flood   Attack      12773\n",
      "          Malformed Data      Attack       5130\n",
      "RECON     Recon VulScan       Attack       2173\n",
      "          Ping Sweep          Attack        740\n",
      "Name: count, dtype: int64\n",
      "\n",
      "Test set: (1614182, 48)\n",
      "category  attack              class \n",
      "DDoS      DDoS UDP            Attack    362070\n",
      "          DDoS ICMP           Attack    349699\n",
      "          DDoS TCP            Attack    182598\n",
      "          DDoS SYN            Attack    172397\n",
      "DoS       DoS UDP             Attack    137553\n",
      "          DoS SYN             Attack     98595\n",
      "          DoS ICMP            Attack     98432\n",
      "          DoS TCP             Attack     82096\n",
      "MQTT      DDoS Connect Flood  Attack     41916\n",
      "BENIGN    BENIGN              Benign     37607\n",
      "RECON     Port Scan           Attack     22622\n",
      "MQTT      DoS Publish Flood   Attack      8505\n",
      "          DDoS Publish Flood  Attack      8416\n",
      "RECON     OS Scan             Attack      3834\n",
      "MQTT      DoS Connect Flood   Attack      3131\n",
      "          Malformed Data      Attack      1747\n",
      "SPOOFING  SPOOFING            Attack      1744\n",
      "RECON     Recon VulScan       Attack      1034\n",
      "          Ping Sweep          Attack       186\n",
      "Name: count, dtype: int64\n"
     ]
    }
   ],
   "source": [
    "# Cek ringkasan\n",
    "print(\"Train set:\", train_df.shape)\n",
    "print(train_df[['category', 'attack', 'class']].value_counts())\n",
    "print(\"\\nTest set:\", test_df.shape)\n",
    "print(test_df[['category', 'attack', 'class']].value_counts())"
   ]
  },
  {
   "cell_type": "code",
   "execution_count": 13,
   "id": "af1a67f5-d42f-4e8d-a493-5a1f2b49bb76",
   "metadata": {},
   "outputs": [
    {
     "data": {
      "text/plain": [
       "attack\n",
       "DDoS UDP              1635956\n",
       "DDoS ICMP             1537476\n",
       "DDoS TCP               804465\n",
       "DDoS SYN               801962\n",
       "DoS UDP                566950\n",
       "DoS SYN                441903\n",
       "DoS ICMP               416292\n",
       "DoS TCP                380384\n",
       "BENIGN                 192732\n",
       "DDoS Connect Flood     173036\n",
       "Port Scan               83981\n",
       "DoS Publish Flood       44376\n",
       "DDoS Publish Flood      27623\n",
       "OS Scan                 16832\n",
       "SPOOFING                16047\n",
       "DoS Connect Flood       12773\n",
       "Malformed Data           5130\n",
       "Recon VulScan            2173\n",
       "Ping Sweep                740\n",
       "Name: count, dtype: int64"
      ]
     },
     "execution_count": 13,
     "metadata": {},
     "output_type": "execute_result"
    }
   ],
   "source": [
    "train_df['attack'].value_counts()"
   ]
  },
  {
   "cell_type": "code",
   "execution_count": 15,
   "id": "93a92dc6-5bff-44a3-979e-3e73fc36a4c6",
   "metadata": {},
   "outputs": [
    {
     "data": {
      "text/plain": [
       "category\n",
       "DDoS        4779859\n",
       "DoS         1805529\n",
       "MQTT         262938\n",
       "BENIGN       192732\n",
       "RECON        103726\n",
       "SPOOFING      16047\n",
       "Name: count, dtype: int64"
      ]
     },
     "execution_count": 15,
     "metadata": {},
     "output_type": "execute_result"
    }
   ],
   "source": [
    "train_df['category'].value_counts()"
   ]
  },
  {
   "cell_type": "code",
   "execution_count": 19,
   "id": "9b7724bf-aed2-41df-a191-dafe10aab0c2",
   "metadata": {},
   "outputs": [
    {
     "data": {
      "text/plain": [
       "class\n",
       "Attack    6968099\n",
       "Benign     192732\n",
       "Name: count, dtype: int64"
      ]
     },
     "execution_count": 19,
     "metadata": {},
     "output_type": "execute_result"
    }
   ],
   "source": [
    "train_df['class'].value_counts()"
   ]
  },
  {
   "cell_type": "code",
   "execution_count": 21,
   "id": "8359d2b3-5a70-4d72-880c-0b99c008ec55",
   "metadata": {},
   "outputs": [
    {
     "data": {
      "text/plain": [
       "class\n",
       "Attack    1576575\n",
       "Benign      37607\n",
       "Name: count, dtype: int64"
      ]
     },
     "execution_count": 21,
     "metadata": {},
     "output_type": "execute_result"
    }
   ],
   "source": [
    "test_df['class'].value_counts()"
   ]
  },
  {
   "cell_type": "code",
   "execution_count": 23,
   "id": "8ab411a1-7746-4876-90e8-320e6b7a5f93",
   "metadata": {},
   "outputs": [
    {
     "data": {
      "text/plain": [
       "category\n",
       "DDoS        1066764\n",
       "DoS          416676\n",
       "MQTT          63715\n",
       "BENIGN        37607\n",
       "RECON         27676\n",
       "SPOOFING       1744\n",
       "Name: count, dtype: int64"
      ]
     },
     "execution_count": 23,
     "metadata": {},
     "output_type": "execute_result"
    }
   ],
   "source": [
    "test_df['category'].value_counts()"
   ]
  },
  {
   "cell_type": "code",
   "execution_count": 25,
   "id": "a28f91df-8269-434c-99e1-43be8902811f",
   "metadata": {},
   "outputs": [
    {
     "data": {
      "text/plain": [
       "attack\n",
       "DDoS UDP              362070\n",
       "DDoS ICMP             349699\n",
       "DDoS TCP              182598\n",
       "DDoS SYN              172397\n",
       "DoS UDP               137553\n",
       "DoS SYN                98595\n",
       "DoS ICMP               98432\n",
       "DoS TCP                82096\n",
       "DDoS Connect Flood     41916\n",
       "BENIGN                 37607\n",
       "Port Scan              22622\n",
       "DoS Publish Flood       8505\n",
       "DDoS Publish Flood      8416\n",
       "OS Scan                 3834\n",
       "DoS Connect Flood       3131\n",
       "Malformed Data          1747\n",
       "SPOOFING                1744\n",
       "Recon VulScan           1034\n",
       "Ping Sweep               186\n",
       "Name: count, dtype: int64"
      ]
     },
     "execution_count": 25,
     "metadata": {},
     "output_type": "execute_result"
    }
   ],
   "source": [
    "test_df['attack'].value_counts()"
   ]
  },
  {
   "cell_type": "code",
   "execution_count": 27,
   "id": "b6256ddf-49c2-4439-ba72-571f1437c126",
   "metadata": {},
   "outputs": [],
   "source": [
    "# Gabungkan train dan test menjadi satu DataFrame\n",
    "df = pd.concat([train_df, test_df], ignore_index=True)"
   ]
  },
  {
   "cell_type": "code",
   "execution_count": 29,
   "id": "82f2fde2-baa0-42c3-8029-c1d139e28458",
   "metadata": {},
   "outputs": [
    {
     "data": {
      "text/plain": [
       "attack\n",
       "DDoS UDP              1998026\n",
       "DDoS ICMP             1887175\n",
       "DDoS TCP               987063\n",
       "DDoS SYN               974359\n",
       "DoS UDP                704503\n",
       "DoS SYN                540498\n",
       "DoS ICMP               514724\n",
       "DoS TCP                462480\n",
       "BENIGN                 230339\n",
       "DDoS Connect Flood     214952\n",
       "Port Scan              106603\n",
       "DoS Publish Flood       52881\n",
       "DDoS Publish Flood      36039\n",
       "OS Scan                 20666\n",
       "SPOOFING                17791\n",
       "DoS Connect Flood       15904\n",
       "Malformed Data           6877\n",
       "Recon VulScan            3207\n",
       "Ping Sweep                926\n",
       "Name: count, dtype: int64"
      ]
     },
     "execution_count": 29,
     "metadata": {},
     "output_type": "execute_result"
    }
   ],
   "source": [
    "df['attack'].value_counts()"
   ]
  },
  {
   "cell_type": "code",
   "execution_count": 31,
   "id": "1b9bbdfd-0df1-4d85-97e7-4cb4f87b7a2c",
   "metadata": {},
   "outputs": [
    {
     "data": {
      "text/plain": [
       "category\n",
       "DDoS        5846623\n",
       "DoS         2222205\n",
       "MQTT         326653\n",
       "BENIGN       230339\n",
       "RECON        131402\n",
       "SPOOFING      17791\n",
       "Name: count, dtype: int64"
      ]
     },
     "execution_count": 31,
     "metadata": {},
     "output_type": "execute_result"
    }
   ],
   "source": [
    "df['category'].value_counts()"
   ]
  },
  {
   "cell_type": "code",
   "execution_count": 33,
   "id": "1e5fc9b3-dd2b-4e16-bff6-a0a2a5c71d21",
   "metadata": {},
   "outputs": [
    {
     "data": {
      "text/plain": [
       "class\n",
       "Attack    8544674\n",
       "Benign     230339\n",
       "Name: count, dtype: int64"
      ]
     },
     "execution_count": 33,
     "metadata": {},
     "output_type": "execute_result"
    }
   ],
   "source": [
    "df['class'].value_counts()"
   ]
  },
  {
   "cell_type": "code",
   "execution_count": 35,
   "id": "db4fcc08-35e4-4047-947b-aca4077f0ec3",
   "metadata": {},
   "outputs": [
    {
     "data": {
      "text/plain": [
       "Header_Length      0\n",
       "Protocol Type      0\n",
       "Duration           0\n",
       "Rate               0\n",
       "Srate              0\n",
       "Drate              0\n",
       "fin_flag_number    0\n",
       "syn_flag_number    0\n",
       "rst_flag_number    0\n",
       "psh_flag_number    0\n",
       "ack_flag_number    0\n",
       "ece_flag_number    0\n",
       "cwr_flag_number    0\n",
       "ack_count          0\n",
       "syn_count          0\n",
       "fin_count          0\n",
       "rst_count          0\n",
       "HTTP               0\n",
       "HTTPS              0\n",
       "DNS                0\n",
       "Telnet             0\n",
       "SMTP               0\n",
       "SSH                0\n",
       "IRC                0\n",
       "TCP                0\n",
       "UDP                0\n",
       "DHCP               0\n",
       "ARP                0\n",
       "ICMP               0\n",
       "IGMP               0\n",
       "IPv                0\n",
       "LLC                0\n",
       "Tot sum            0\n",
       "Min                0\n",
       "Max                0\n",
       "AVG                0\n",
       "Std                0\n",
       "Tot size           0\n",
       "IAT                0\n",
       "Number             0\n",
       "Magnitue           0\n",
       "Radius             0\n",
       "Covariance         0\n",
       "Variance           0\n",
       "Weight             0\n",
       "category           0\n",
       "attack             0\n",
       "class              0\n",
       "dtype: int64"
      ]
     },
     "execution_count": 35,
     "metadata": {},
     "output_type": "execute_result"
    }
   ],
   "source": [
    "# check missing values in variables\n",
    "\n",
    "df.isnull().sum()"
   ]
  },
  {
   "cell_type": "code",
   "execution_count": 39,
   "id": "f78c5a9a-9a2b-4a4b-acaf-693aeb00b38a",
   "metadata": {},
   "outputs": [
    {
     "name": "stdout",
     "output_type": "stream",
     "text": [
      "There are 3 categorical variables\n",
      "\n",
      "The categorical variables are : ['category', 'attack', 'class']\n"
     ]
    }
   ],
   "source": [
    "# find categorical variables\n",
    "\n",
    "categorical = [var for var in df.columns if df[var].dtype=='O']\n",
    "\n",
    "print('There are {} categorical variables\\n'.format(len(categorical)))\n",
    "\n",
    "print('The categorical variables are :', categorical)"
   ]
  },
  {
   "cell_type": "code",
   "execution_count": 43,
   "id": "77c7104f-19a8-4c68-932f-2c4993f84f8d",
   "metadata": {},
   "outputs": [
    {
     "name": "stdout",
     "output_type": "stream",
     "text": [
      "There are 45 numerical variables\n",
      "\n",
      "The numerical variables are : ['Header_Length', 'Protocol Type', 'Duration', 'Rate', 'Srate', 'Drate', 'fin_flag_number', 'syn_flag_number', 'rst_flag_number', 'psh_flag_number', 'ack_flag_number', 'ece_flag_number', 'cwr_flag_number', 'ack_count', 'syn_count', 'fin_count', 'rst_count', 'HTTP', 'HTTPS', 'DNS', 'Telnet', 'SMTP', 'SSH', 'IRC', 'TCP', 'UDP', 'DHCP', 'ARP', 'ICMP', 'IGMP', 'IPv', 'LLC', 'Tot sum', 'Min', 'Max', 'AVG', 'Std', 'Tot size', 'IAT', 'Number', 'Magnitue', 'Radius', 'Covariance', 'Variance', 'Weight']\n"
     ]
    }
   ],
   "source": [
    "# find numerical variables\n",
    "\n",
    "numerical = [var for var in df.columns if df[var].dtype!='O']\n",
    "\n",
    "print('There are {} numerical variables\\n'.format(len(numerical)))\n",
    "\n",
    "print('The numerical variables are :', numerical)"
   ]
  },
  {
   "cell_type": "code",
   "execution_count": 45,
   "id": "f1cc30a5-fbfc-4a69-b992-2511ae0d06a5",
   "metadata": {},
   "outputs": [
    {
     "data": {
      "text/html": [
       "<div>\n",
       "<style scoped>\n",
       "    .dataframe tbody tr th:only-of-type {\n",
       "        vertical-align: middle;\n",
       "    }\n",
       "\n",
       "    .dataframe tbody tr th {\n",
       "        vertical-align: top;\n",
       "    }\n",
       "\n",
       "    .dataframe thead th {\n",
       "        text-align: right;\n",
       "    }\n",
       "</style>\n",
       "<table border=\"1\" class=\"dataframe\">\n",
       "  <thead>\n",
       "    <tr style=\"text-align: right;\">\n",
       "      <th></th>\n",
       "      <th>Header_Length</th>\n",
       "      <th>Protocol Type</th>\n",
       "      <th>Duration</th>\n",
       "      <th>Rate</th>\n",
       "      <th>Srate</th>\n",
       "      <th>Drate</th>\n",
       "      <th>fin_flag_number</th>\n",
       "      <th>syn_flag_number</th>\n",
       "      <th>rst_flag_number</th>\n",
       "      <th>psh_flag_number</th>\n",
       "      <th>...</th>\n",
       "      <th>IAT</th>\n",
       "      <th>Number</th>\n",
       "      <th>Magnitue</th>\n",
       "      <th>Radius</th>\n",
       "      <th>Covariance</th>\n",
       "      <th>Variance</th>\n",
       "      <th>Weight</th>\n",
       "      <th>category</th>\n",
       "      <th>attack</th>\n",
       "      <th>class</th>\n",
       "    </tr>\n",
       "  </thead>\n",
       "  <tbody>\n",
       "    <tr>\n",
       "      <th>0</th>\n",
       "      <td>134.3</td>\n",
       "      <td>7.10</td>\n",
       "      <td>64.0</td>\n",
       "      <td>40415.288318</td>\n",
       "      <td>40415.288318</td>\n",
       "      <td>0.0</td>\n",
       "      <td>0.0</td>\n",
       "      <td>0.0</td>\n",
       "      <td>0.0</td>\n",
       "      <td>0.5</td>\n",
       "      <td>...</td>\n",
       "      <td>1.694641e+08</td>\n",
       "      <td>5.5</td>\n",
       "      <td>15.312231</td>\n",
       "      <td>68.201654</td>\n",
       "      <td>2644.242675</td>\n",
       "      <td>0.9</td>\n",
       "      <td>38.5</td>\n",
       "      <td>BENIGN</td>\n",
       "      <td>BENIGN</td>\n",
       "      <td>Benign</td>\n",
       "    </tr>\n",
       "    <tr>\n",
       "      <th>1</th>\n",
       "      <td>137.0</td>\n",
       "      <td>4.70</td>\n",
       "      <td>49.9</td>\n",
       "      <td>58749.191833</td>\n",
       "      <td>58749.191833</td>\n",
       "      <td>0.0</td>\n",
       "      <td>0.0</td>\n",
       "      <td>0.0</td>\n",
       "      <td>0.0</td>\n",
       "      <td>0.2</td>\n",
       "      <td>...</td>\n",
       "      <td>1.694641e+08</td>\n",
       "      <td>13.5</td>\n",
       "      <td>13.468364</td>\n",
       "      <td>84.997147</td>\n",
       "      <td>5328.483794</td>\n",
       "      <td>1.0</td>\n",
       "      <td>244.6</td>\n",
       "      <td>BENIGN</td>\n",
       "      <td>BENIGN</td>\n",
       "      <td>Benign</td>\n",
       "    </tr>\n",
       "    <tr>\n",
       "      <th>2</th>\n",
       "      <td>283.9</td>\n",
       "      <td>6.00</td>\n",
       "      <td>64.0</td>\n",
       "      <td>3.497439</td>\n",
       "      <td>3.497439</td>\n",
       "      <td>0.0</td>\n",
       "      <td>0.0</td>\n",
       "      <td>0.0</td>\n",
       "      <td>0.0</td>\n",
       "      <td>0.5</td>\n",
       "      <td>...</td>\n",
       "      <td>8.070469e-05</td>\n",
       "      <td>5.5</td>\n",
       "      <td>12.229315</td>\n",
       "      <td>14.458481</td>\n",
       "      <td>124.725884</td>\n",
       "      <td>0.9</td>\n",
       "      <td>38.5</td>\n",
       "      <td>BENIGN</td>\n",
       "      <td>BENIGN</td>\n",
       "      <td>Benign</td>\n",
       "    </tr>\n",
       "    <tr>\n",
       "      <th>3</th>\n",
       "      <td>297.3</td>\n",
       "      <td>6.00</td>\n",
       "      <td>64.0</td>\n",
       "      <td>7297.703020</td>\n",
       "      <td>7297.703020</td>\n",
       "      <td>0.0</td>\n",
       "      <td>0.0</td>\n",
       "      <td>0.0</td>\n",
       "      <td>0.0</td>\n",
       "      <td>0.5</td>\n",
       "      <td>...</td>\n",
       "      <td>1.694641e+08</td>\n",
       "      <td>13.5</td>\n",
       "      <td>12.552920</td>\n",
       "      <td>21.904691</td>\n",
       "      <td>240.536207</td>\n",
       "      <td>1.0</td>\n",
       "      <td>244.6</td>\n",
       "      <td>BENIGN</td>\n",
       "      <td>BENIGN</td>\n",
       "      <td>Benign</td>\n",
       "    </tr>\n",
       "    <tr>\n",
       "      <th>4</th>\n",
       "      <td>572.3</td>\n",
       "      <td>7.10</td>\n",
       "      <td>57.7</td>\n",
       "      <td>2.549120</td>\n",
       "      <td>2.549120</td>\n",
       "      <td>0.0</td>\n",
       "      <td>0.0</td>\n",
       "      <td>0.0</td>\n",
       "      <td>0.0</td>\n",
       "      <td>0.4</td>\n",
       "      <td>...</td>\n",
       "      <td>9.993820e-02</td>\n",
       "      <td>5.5</td>\n",
       "      <td>13.928729</td>\n",
       "      <td>98.625651</td>\n",
       "      <td>11737.768847</td>\n",
       "      <td>0.9</td>\n",
       "      <td>38.5</td>\n",
       "      <td>BENIGN</td>\n",
       "      <td>BENIGN</td>\n",
       "      <td>Benign</td>\n",
       "    </tr>\n",
       "    <tr>\n",
       "      <th>...</th>\n",
       "      <td>...</td>\n",
       "      <td>...</td>\n",
       "      <td>...</td>\n",
       "      <td>...</td>\n",
       "      <td>...</td>\n",
       "      <td>...</td>\n",
       "      <td>...</td>\n",
       "      <td>...</td>\n",
       "      <td>...</td>\n",
       "      <td>...</td>\n",
       "      <td>...</td>\n",
       "      <td>...</td>\n",
       "      <td>...</td>\n",
       "      <td>...</td>\n",
       "      <td>...</td>\n",
       "      <td>...</td>\n",
       "      <td>...</td>\n",
       "      <td>...</td>\n",
       "      <td>...</td>\n",
       "      <td>...</td>\n",
       "      <td>...</td>\n",
       "    </tr>\n",
       "    <tr>\n",
       "      <th>8775008</th>\n",
       "      <td>35466.4</td>\n",
       "      <td>6.00</td>\n",
       "      <td>64.0</td>\n",
       "      <td>2.041653</td>\n",
       "      <td>2.041653</td>\n",
       "      <td>0.0</td>\n",
       "      <td>0.0</td>\n",
       "      <td>0.0</td>\n",
       "      <td>0.0</td>\n",
       "      <td>0.5</td>\n",
       "      <td>...</td>\n",
       "      <td>1.694028e+08</td>\n",
       "      <td>13.5</td>\n",
       "      <td>12.650422</td>\n",
       "      <td>23.964774</td>\n",
       "      <td>288.120009</td>\n",
       "      <td>1.0</td>\n",
       "      <td>244.6</td>\n",
       "      <td>SPOOFING</td>\n",
       "      <td>SPOOFING</td>\n",
       "      <td>Attack</td>\n",
       "    </tr>\n",
       "    <tr>\n",
       "      <th>8775009</th>\n",
       "      <td>30758.3</td>\n",
       "      <td>6.00</td>\n",
       "      <td>64.0</td>\n",
       "      <td>1.652137</td>\n",
       "      <td>1.652137</td>\n",
       "      <td>0.0</td>\n",
       "      <td>0.0</td>\n",
       "      <td>0.0</td>\n",
       "      <td>0.0</td>\n",
       "      <td>0.5</td>\n",
       "      <td>...</td>\n",
       "      <td>1.407862e-04</td>\n",
       "      <td>5.5</td>\n",
       "      <td>12.519220</td>\n",
       "      <td>21.018121</td>\n",
       "      <td>259.671365</td>\n",
       "      <td>0.9</td>\n",
       "      <td>38.5</td>\n",
       "      <td>SPOOFING</td>\n",
       "      <td>SPOOFING</td>\n",
       "      <td>Attack</td>\n",
       "    </tr>\n",
       "    <tr>\n",
       "      <th>8775010</th>\n",
       "      <td>13242.4</td>\n",
       "      <td>7.10</td>\n",
       "      <td>104.7</td>\n",
       "      <td>0.731182</td>\n",
       "      <td>0.731182</td>\n",
       "      <td>0.0</td>\n",
       "      <td>0.0</td>\n",
       "      <td>0.0</td>\n",
       "      <td>0.0</td>\n",
       "      <td>0.5</td>\n",
       "      <td>...</td>\n",
       "      <td>1.694028e+08</td>\n",
       "      <td>13.5</td>\n",
       "      <td>12.949606</td>\n",
       "      <td>28.237029</td>\n",
       "      <td>400.112482</td>\n",
       "      <td>1.0</td>\n",
       "      <td>244.6</td>\n",
       "      <td>SPOOFING</td>\n",
       "      <td>SPOOFING</td>\n",
       "      <td>Attack</td>\n",
       "    </tr>\n",
       "    <tr>\n",
       "      <th>8775011</th>\n",
       "      <td>37550.4</td>\n",
       "      <td>6.00</td>\n",
       "      <td>64.0</td>\n",
       "      <td>2.041411</td>\n",
       "      <td>2.041411</td>\n",
       "      <td>0.0</td>\n",
       "      <td>0.0</td>\n",
       "      <td>0.0</td>\n",
       "      <td>0.0</td>\n",
       "      <td>0.5</td>\n",
       "      <td>...</td>\n",
       "      <td>4.618168e-05</td>\n",
       "      <td>5.5</td>\n",
       "      <td>12.886801</td>\n",
       "      <td>22.399644</td>\n",
       "      <td>286.953348</td>\n",
       "      <td>0.9</td>\n",
       "      <td>38.5</td>\n",
       "      <td>SPOOFING</td>\n",
       "      <td>SPOOFING</td>\n",
       "      <td>Attack</td>\n",
       "    </tr>\n",
       "    <tr>\n",
       "      <th>8775012</th>\n",
       "      <td>4394.0</td>\n",
       "      <td>14.25</td>\n",
       "      <td>96.0</td>\n",
       "      <td>0.130879</td>\n",
       "      <td>0.130879</td>\n",
       "      <td>0.0</td>\n",
       "      <td>0.0</td>\n",
       "      <td>0.0</td>\n",
       "      <td>0.0</td>\n",
       "      <td>0.0</td>\n",
       "      <td>...</td>\n",
       "      <td>1.152740e-01</td>\n",
       "      <td>12.5</td>\n",
       "      <td>16.157539</td>\n",
       "      <td>247.255136</td>\n",
       "      <td>38916.853250</td>\n",
       "      <td>1.0</td>\n",
       "      <td>157.5</td>\n",
       "      <td>SPOOFING</td>\n",
       "      <td>SPOOFING</td>\n",
       "      <td>Attack</td>\n",
       "    </tr>\n",
       "  </tbody>\n",
       "</table>\n",
       "<p>8775013 rows × 48 columns</p>\n",
       "</div>"
      ],
      "text/plain": [
       "         Header_Length  Protocol Type  Duration          Rate         Srate  \\\n",
       "0                134.3           7.10      64.0  40415.288318  40415.288318   \n",
       "1                137.0           4.70      49.9  58749.191833  58749.191833   \n",
       "2                283.9           6.00      64.0      3.497439      3.497439   \n",
       "3                297.3           6.00      64.0   7297.703020   7297.703020   \n",
       "4                572.3           7.10      57.7      2.549120      2.549120   \n",
       "...                ...            ...       ...           ...           ...   \n",
       "8775008        35466.4           6.00      64.0      2.041653      2.041653   \n",
       "8775009        30758.3           6.00      64.0      1.652137      1.652137   \n",
       "8775010        13242.4           7.10     104.7      0.731182      0.731182   \n",
       "8775011        37550.4           6.00      64.0      2.041411      2.041411   \n",
       "8775012         4394.0          14.25      96.0      0.130879      0.130879   \n",
       "\n",
       "         Drate  fin_flag_number  syn_flag_number  rst_flag_number  \\\n",
       "0          0.0              0.0              0.0              0.0   \n",
       "1          0.0              0.0              0.0              0.0   \n",
       "2          0.0              0.0              0.0              0.0   \n",
       "3          0.0              0.0              0.0              0.0   \n",
       "4          0.0              0.0              0.0              0.0   \n",
       "...        ...              ...              ...              ...   \n",
       "8775008    0.0              0.0              0.0              0.0   \n",
       "8775009    0.0              0.0              0.0              0.0   \n",
       "8775010    0.0              0.0              0.0              0.0   \n",
       "8775011    0.0              0.0              0.0              0.0   \n",
       "8775012    0.0              0.0              0.0              0.0   \n",
       "\n",
       "         psh_flag_number  ...           IAT  Number   Magnitue      Radius  \\\n",
       "0                    0.5  ...  1.694641e+08     5.5  15.312231   68.201654   \n",
       "1                    0.2  ...  1.694641e+08    13.5  13.468364   84.997147   \n",
       "2                    0.5  ...  8.070469e-05     5.5  12.229315   14.458481   \n",
       "3                    0.5  ...  1.694641e+08    13.5  12.552920   21.904691   \n",
       "4                    0.4  ...  9.993820e-02     5.5  13.928729   98.625651   \n",
       "...                  ...  ...           ...     ...        ...         ...   \n",
       "8775008              0.5  ...  1.694028e+08    13.5  12.650422   23.964774   \n",
       "8775009              0.5  ...  1.407862e-04     5.5  12.519220   21.018121   \n",
       "8775010              0.5  ...  1.694028e+08    13.5  12.949606   28.237029   \n",
       "8775011              0.5  ...  4.618168e-05     5.5  12.886801   22.399644   \n",
       "8775012              0.0  ...  1.152740e-01    12.5  16.157539  247.255136   \n",
       "\n",
       "           Covariance  Variance  Weight  category    attack   class  \n",
       "0         2644.242675       0.9    38.5    BENIGN    BENIGN  Benign  \n",
       "1         5328.483794       1.0   244.6    BENIGN    BENIGN  Benign  \n",
       "2          124.725884       0.9    38.5    BENIGN    BENIGN  Benign  \n",
       "3          240.536207       1.0   244.6    BENIGN    BENIGN  Benign  \n",
       "4        11737.768847       0.9    38.5    BENIGN    BENIGN  Benign  \n",
       "...               ...       ...     ...       ...       ...     ...  \n",
       "8775008    288.120009       1.0   244.6  SPOOFING  SPOOFING  Attack  \n",
       "8775009    259.671365       0.9    38.5  SPOOFING  SPOOFING  Attack  \n",
       "8775010    400.112482       1.0   244.6  SPOOFING  SPOOFING  Attack  \n",
       "8775011    286.953348       0.9    38.5  SPOOFING  SPOOFING  Attack  \n",
       "8775012  38916.853250       1.0   157.5  SPOOFING  SPOOFING  Attack  \n",
       "\n",
       "[8775013 rows x 48 columns]"
      ]
     },
     "execution_count": 45,
     "metadata": {},
     "output_type": "execute_result"
    }
   ],
   "source": [
    "df"
   ]
  },
  {
   "cell_type": "code",
   "execution_count": 51,
   "id": "26871723-c589-47d9-ac63-b0a8c0333df9",
   "metadata": {},
   "outputs": [],
   "source": [
    "import pandas as pd\n",
    "import numpy as np\n",
    "import os, glob\n",
    "\n",
    "from pathlib import Path\n",
    "\n",
    "from sklearn.preprocessing import LabelEncoder, StandardScaler\n",
    "from sklearn.model_selection import train_test_split\n",
    "from sklearn.metrics import classification_report, confusion_matrix\n",
    "\n",
    "from sklearn.ensemble import RandomForestClassifier, AdaBoostClassifier, ExtraTreesClassifier, VotingClassifier\n",
    "from sklearn.tree import DecisionTreeClassifier\n",
    "\n",
    "from xgboost import XGBClassifier\n",
    "from lightgbm import LGBMClassifier\n",
    "from catboost import CatBoostClassifier\n",
    "\n",
    "import matplotlib.pyplot as plt\n",
    "import seaborn as sns\n",
    "\n",
    "# Label encoding\n",
    "le = LabelEncoder()\n",
    "y_encoded = le.fit_transform(df['class'])\n",
    "\n",
    "\n",
    "# Fitur numerik + scaling\n",
    "X = df.drop(['class', 'category', 'attack'], axis=1, errors='ignore').select_dtypes(include=[np.number])\n",
    "scaler = StandardScaler()\n",
    "X_scaled = scaler.fit_transform(X)\n",
    "\n",
    "# Split data\n",
    "X_train, X_test, y_train, y_test = train_test_split(X_scaled, y_encoded, test_size=0.2, random_state=42)"
   ]
  },
  {
   "cell_type": "code",
   "execution_count": 53,
   "id": "e6a5b8fc-606a-4593-b232-d385b76edda9",
   "metadata": {},
   "outputs": [],
   "source": [
    "from sklearn.ensemble import AdaBoostClassifier\n",
    "from sklearn.tree import DecisionTreeClassifier\n",
    "\n",
    "models = {\n",
    "    'Random Forest': RandomForestClassifier(n_estimators=100, random_state=42),\n",
    "\n",
    "    'AdaBoost': AdaBoostClassifier(\n",
    "        estimator=DecisionTreeClassifier(max_depth=3, class_weight='balanced'),\n",
    "        n_estimators=100,\n",
    "        algorithm='SAMME',\n",
    "        random_state=42\n",
    "    ),\n",
    "\n",
    "    'XGBoost': XGBClassifier(\n",
    "        use_label_encoder=False,\n",
    "        objective='multi:softmax',\n",
    "        eval_metric='mlogloss',\n",
    "        num_class=len(le.classes_),\n",
    "        random_state=42\n",
    "    ),\n",
    "\n",
    "    'LightGBM': LGBMClassifier(\n",
    "        objective='multiclass',\n",
    "        num_class=len(le.classes_),\n",
    "        random_state=42\n",
    "    ),\n",
    "\n",
    "    'CatBoost': CatBoostClassifier(\n",
    "        verbose=0,\n",
    "        iterations=100,\n",
    "        depth=6,\n",
    "        loss_function='MultiClass',\n",
    "        random_seed=42\n",
    "    ),\n",
    "\n",
    "    'Extra Trees': ExtraTreesClassifier(n_estimators=100, random_state=42),\n",
    "}\n"
   ]
  },
  {
   "cell_type": "code",
   "execution_count": 55,
   "id": "40978350-bae3-4b39-acdd-3549886ab7ec",
   "metadata": {},
   "outputs": [],
   "source": [
    "models['Voting Classifier'] = VotingClassifier(\n",
    "    estimators=[\n",
    "        ('rf', models['Random Forest']),\n",
    "        ('xgb', models['XGBoost']),\n",
    "        ('lgbm', models['LightGBM']),\n",
    "    ],\n",
    "    voting='hard'\n",
    ")\n"
   ]
  },
  {
   "cell_type": "code",
   "execution_count": null,
   "id": "4a02fed3-9f47-4535-9ce0-8c858d8fde09",
   "metadata": {},
   "outputs": [
    {
     "name": "stdout",
     "output_type": "stream",
     "text": [
      "\n",
      "===== Random Forest =====\n",
      "              precision    recall  f1-score       support\n",
      "Attack         0.999832  0.999569  0.999701  1.709052e+06\n",
      "Benign         0.984138  0.993754  0.988923  4.595100e+04\n",
      "accuracy       0.999417  0.999417  0.999417  9.994171e-01\n",
      "macro avg      0.991985  0.996662  0.994312  1.755003e+06\n",
      "weighted avg   0.999421  0.999417  0.999418  1.755003e+06\n"
     ]
    },
    {
     "data": {
      "image/png": "[encoded data removed]",
      "text/plain": [
       "<Figure size 800x600 with 2 Axes>"
      ]
     },
     "metadata": {},
     "output_type": "display_data"
    },
    {
     "name": "stdout",
     "output_type": "stream",
     "text": [
      "\n",
      "===== AdaBoost =====\n",
      "              precision    recall  f1-score       support\n",
      "Attack         0.999979  0.997785  0.998881  1.709052e+06\n",
      "Benign         0.923826  0.999238  0.960054  4.595100e+04\n",
      "accuracy       0.997823  0.997823  0.997823  9.978228e-01\n",
      "macro avg      0.961903  0.998512  0.979467  1.755003e+06\n",
      "weighted avg   0.997986  0.997823  0.997864  1.755003e+06\n"
     ]
    },
    {
     "data": {
      "image/png": "[encoded data removed]",
      "text/plain": [
       "<Figure size 800x600 with 2 Axes>"
      ]
     },
     "metadata": {},
     "output_type": "display_data"
    },
    {
     "name": "stdout",
     "output_type": "stream",
     "text": [
      "\n",
      "===== XGBoost =====\n"
     ]
    },
    {
     "name": "stderr",
     "output_type": "stream",
     "text": [
      "C:\\Users\\Admin\\anaconda3\\Lib\\site-packages\\xgboost\\training.py:183: UserWarning: [16:21:41] WARNING: C:\\actions-runner\\_work\\xgboost\\xgboost\\src\\learner.cc:738: \n",
      "Parameters: { \"use_label_encoder\" } are not used.\n",
      "\n",
      "  bst.update(dtrain, iteration=i, fobj=obj)\n"
     ]
    },
    {
     "name": "stdout",
     "output_type": "stream",
     "text": [
      "              precision    recall  f1-score       support\n",
      "Attack         0.999787  0.999430  0.999608  1.709052e+06\n",
      "Benign         0.979060  0.992079  0.985526  4.595100e+04\n",
      "accuracy       0.999237  0.999237  0.999237  9.992370e-01\n",
      "macro avg      0.989424  0.995754  0.992567  1.755003e+06\n",
      "weighted avg   0.999244  0.999237  0.999239  1.755003e+06\n"
     ]
    },
    {
     "data": {
      "image/png": "[encoded data removed]",
      "text/plain": [
       "<Figure size 800x600 with 2 Axes>"
      ]
     },
     "metadata": {},
     "output_type": "display_data"
    },
    {
     "name": "stdout",
     "output_type": "stream",
     "text": [
      "\n",
      "===== LightGBM =====\n",
      "[LightGBM] [Info] Auto-choosing row-wise multi-threading, the overhead of testing was 0.551034 seconds.\n",
      "You can set `force_row_wise=true` to remove the overhead.\n",
      "And if memory is not enough, you can set `force_col_wise=true`.\n",
      "[LightGBM] [Info] Total Bins 5678\n",
      "[LightGBM] [Info] Number of data points in the train set: 7020010, number of used features: 44\n",
      "[LightGBM] [Info] Start training from score -0.026617\n",
      "[LightGBM] [Info] Start training from score -3.639478\n",
      "              precision    recall  f1-score       support\n",
      "Attack         0.999759  0.999368  0.999564  1.709052e+06\n",
      "Benign         0.976834  0.991056  0.983893  4.595100e+04\n",
      "accuracy       0.999150  0.999150  0.999150  9.991504e-01\n",
      "macro avg      0.988297  0.995212  0.991729  1.755003e+06\n",
      "weighted avg   0.999159  0.999150  0.999153  1.755003e+06\n"
     ]
    },
    {
     "data": {
      "image/png": "[encoded data removed]",
      "text/plain": [
       "<Figure size 800x600 with 2 Axes>"
      ]
     },
     "metadata": {},
     "output_type": "display_data"
    },
    {
     "name": "stdout",
     "output_type": "stream",
     "text": [
      "\n",
      "===== CatBoost =====\n"
     ]
    },
    {
     "name": "stderr",
     "output_type": "stream",
     "text": [
      "C:\\Users\\Admin\\anaconda3\\Lib\\site-packages\\sklearn\\preprocessing\\_label.py:153: DataConversionWarning: A column-vector y was passed when a 1d array was expected. Please change the shape of y to (n_samples, ), for example using ravel().\n",
      "  y = column_or_1d(y, warn=True)\n"
     ]
    },
    {
     "name": "stdout",
     "output_type": "stream",
     "text": [
      "              precision    recall  f1-score       support\n",
      "Attack         0.999742  0.999316  0.999529  1.709052e+06\n",
      "Benign         0.974957  0.990403  0.982619  4.595100e+04\n",
      "accuracy       0.999083  0.999083  0.999083  9.990826e-01\n",
      "macro avg      0.987349  0.994859  0.991074  1.755003e+06\n",
      "weighted avg   0.999093  0.999083  0.999086  1.755003e+06\n"
     ]
    },
    {
     "data": {
      "image/png": "[encoded data removed]",
      "text/plain": [
       "<Figure size 800x600 with 2 Axes>"
      ]
     },
     "metadata": {},
     "output_type": "display_data"
    },
    {
     "name": "stdout",
     "output_type": "stream",
     "text": [
      "\n",
      "===== Extra Trees =====\n"
     ]
    }
   ],
   "source": [
    "results = {}\n",
    "\n",
    "for name, model in models.items():\n",
    "    print(f\"\\n===== {name} =====\")\n",
    "    model.fit(X_train, y_train)\n",
    "    y_pred = model.predict(X_test)\n",
    "\n",
    "    # Inverse ke label asli\n",
    "    y_pred_labels = le.inverse_transform(y_pred)\n",
    "    y_true_labels = le.inverse_transform(y_test)\n",
    "\n",
    "    # Classification Report\n",
    "    report = classification_report(\n",
    "        y_true_labels, y_pred_labels, digits=5,\n",
    "        output_dict=True, zero_division=0\n",
    "    )\n",
    "    report_df = pd.DataFrame(report).transpose()\n",
    "    print(report_df)\n",
    "\n",
    "    # Confusion Matrix\n",
    "    cm = confusion_matrix(y_true_labels, y_pred_labels, labels=le.classes_)\n",
    "    plt.figure(figsize=(8, 6))\n",
    "    sns.heatmap(cm, annot=True, fmt='d', cmap='Blues',\n",
    "                xticklabels=le.classes_, yticklabels=le.classes_)\n",
    "    plt.title(f\"Confusion Matrix: {name}\")\n",
    "    plt.xlabel(\"Predicted Label\")\n",
    "    plt.ylabel(\"True Label\")\n",
    "    plt.show()\n",
    "\n",
    "    results[name] = {\n",
    "        'report': report_df,\n",
    "        'confusion_matrix': cm\n",
    "    }\n"
   ]
  },
  {
   "cell_type": "code",
   "execution_count": null,
   "id": "77ed8342-163a-4ca9-a154-04db3ff52fa6",
   "metadata": {},
   "outputs": [],
   "source": [
    "performance_data = []\n",
    "\n",
    "for name, result in results.items():\n",
    "    report = result['report']\n",
    "    accuracy = report.loc['accuracy']['precision'] if 'accuracy' in report.index else None\n",
    "    macro = report.loc['macro avg']\n",
    "    performance_data.append({\n",
    "        'Model': name,\n",
    "        'Accuracy': accuracy,\n",
    "        'Precision (Macro Avg)': macro['precision'],\n",
    "        'Recall (Macro Avg)': macro['recall'],\n",
    "        'F1-Score (Macro Avg)': macro['f1-score']\n",
    "    })\n",
    "\n",
    "performance_df = pd.DataFrame(performance_data)\n",
    "performance_df.sort_values(by='F1-Score (Macro Avg)', ascending=False, inplace=True)\n",
    "performance_df.reset_index(drop=True, inplace=True)\n",
    "display(performance_df)\n"
   ]
  },
  {
   "cell_type": "code",
   "execution_count": null,
   "id": "81e47622-6f0e-4b9e-ba89-a33a7a6fffce",
   "metadata": {},
   "outputs": [],
   "source": [
    "bar_width = 0.2\n",
    "index = np.arange(len(performance_df))\n",
    "\n",
    "plt.figure(figsize=(12, 6))\n",
    "plt.bar(index, performance_df['Accuracy'], bar_width, label='Accuracy')\n",
    "plt.bar(index + bar_width, performance_df['Precision (Macro Avg)'], bar_width, label='Precision')\n",
    "plt.bar(index + 2*bar_width, performance_df['Recall (Macro Avg)'], bar_width, label='Recall')\n",
    "plt.bar(index + 3*bar_width, performance_df['F1-Score (Macro Avg)'], bar_width, label='F1-Score')\n",
    "\n",
    "plt.xlabel('Model')\n",
    "plt.ylabel('Score')\n",
    "plt.title('Performance Comparison of Ensemble Models')\n",
    "plt.xticks(index + 1.5 * bar_width, performance_df['Model'], rotation=45)\n",
    "plt.ylim(0, 1.05)\n",
    "plt.legend()\n",
    "plt.tight_layout()\n",
    "plt.grid(True, axis='y')\n",
    "plt.show()\n"
   ]
  },
  {
   "cell_type": "code",
   "execution_count": null,
   "id": "a5758843-d79c-4354-84a4-73347c46714b",
   "metadata": {},
   "outputs": [],
   "source": []
  }
 ],
 "metadata": {
  "kernelspec": {
   "display_name": "Python [conda env:base] *",
   "language": "python",
   "name": "conda-base-py"
  },
  "language_info": {
   "codemirror_mode": {
    "name": "ipython",
    "version": 3
   },
   "file_extension": ".py",
   "mimetype": "text/x-python",
   "name": "python",
   "nbconvert_exporter": "python",
   "pygments_lexer": "ipython3",
   "version": "3.12.7"
  }
 },
 "nbformat": 4,
 "nbformat_minor": 5
}
